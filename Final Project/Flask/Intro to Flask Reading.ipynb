{
 "cells": [
  {
   "cell_type": "markdown",
   "metadata": {},
   "source": [
    "# Tutorial to Creating a Flask App\n",
    "> Written by Megan Kaye\n",
    "\n",
    "Our python code is pretty cool on it's own, but if we want it to be accessible to the public we need to do a bit more work! Before we jump right into Alexa, let's develop a Python web server to complement your skills! There are several Python frameworks that allow for rapid web development, but we will be using Flask particularly because of Flask-Ask, the Python framework for rapid Alexa Skills Kit development that we will work with later in the course. For now, let's get familiar with Flask. Let's install it- in the same way we've been installing pretty much everything :)  \n",
    "\n",
    "```bash\n",
    "$ conda install flask\n",
    "```"
   ]
  },
  {
   "cell_type": "markdown",
   "metadata": {},
   "source": [
    "[Here](http://flask.pocoo.org/extensions/) is a list of Flask extensions that you **may** want to peruse for creating your own application, but you don't need to. Essentially to install any other extensions you may need, cd to your folder and simply run:\n",
    "```bash\n",
    "$ conda install insertNameOfExtension\n",
    "```"
   ]
  },
  {
   "cell_type": "markdown",
   "metadata": {},
   "source": [
    "## Hello World\n",
    "\n",
    "Per tradition, let's start with a \"hello world\" page. \n",
    "\n",
    "To set up the basic folder structure for our application, cd back to the root folder you first created (titled flasktutorial in my case) and create the following folders. \n",
    "\n",
    "```bash\n",
    "$ mkdir app\n",
    "$ mkdir app/static\n",
    "$ mkdir app/templates\n",
    "```\n",
    "(If you're unfamiliar with mkdir, all it does is creating new folders via the terminal. Feel free to make these folders in however way you wish!) Now, we've made 3 folders: app, and within the app folder static and templates."
   ]
  },
  {
   "cell_type": "markdown",
   "metadata": {},
   "source": [
    "Here the folder names are fairly self-explanatory. The static folder contains static files such as images, logos, javascripts, or other mostly stylistic elements we may incorporate. The templates folder holds templates, which we'll talk about later. Let's just write a simple script to run our code in our app folder\n",
    "\n",
    "We start with:\n",
    "\n",
    "```python\n",
    "from flask import *\n",
    "\n",
    "app = Flask(__name__)\n",
    "```\n",
    "\n",
    "This just sets up our flask app. Next, we write:\n",
    "\n",
    "```python\n",
    "@app.route('/')\n",
    "def index():\n",
    "  return \"Hello, World!\"\n",
    "```\n",
    "\n",
    "What this does is, when running, automatically **routes** the app to the default webpage. Can you guess what the default webpage will display?\n",
    "\n",
    "Finally, to make your app run continuously until you cancel it, add at the bottom of your run.py file:\n",
    "\n",
    "```python\n",
    "app.run(debug=True)\n",
    "```\n",
    "\n",
    "Make sure to save! Then, to start the app, navigate to the folder and simply write in your terminal\n",
    "```bash\n",
    "python run.py\n",
    "```\n",
    "\n",
    "and you should see:\n",
    "```bash\n",
    " * Running on http://127.0.0.1:5000/\n",
    "```\n",
    "\n",
    "Check out your website at http://localhost:5000 !"
   ]
  },
  {
   "cell_type": "markdown",
   "metadata": {},
   "source": [
    "## Stepping it up\n",
    "\n",
    "You'll notice that at this point your app is pretty simple with minimal formatting. Let's spice it up a little bit! There are a few different ways that you can add formatting. First, you can simply make your code return html as shown in the example below:\n",
    "\n",
    "```python\n",
    "@app.route('/')\n",
    "def index():\n",
    "  return '''\n",
    "    <html>\n",
    "      <head>\n",
    "        <title>Slightly more complicated Hello World</title>\n",
    "      </head>\n",
    "      <body>\n",
    "        <h1>Hello</h1>\n",
    "        <h2>Hello</h2>\n",
    "      </body>\n",
    "    </html>\n",
    "  '''\n",
    "```"
   ]
  },
  {
   "cell_type": "markdown",
   "metadata": {},
   "source": [
    "We can incorporate HTML in a couple of ways. (If you're unfamiliar with HTML here are a few \"cheat sheets\" to let you hit the ground running. [ew comic sans](https://web.stanford.edu/group/csp/cs21/htmlcheatsheet.pdf), [more comic sans why](http://www.simplehtmlguide.com/cheatsheet.php),  [why are they all so poorly formatted](https://websitesetup.org/html5-cheat-sheet/)) \n",
    "\n",
    "For example, let's say we're conducting a survey. We want one page to ask the user a bunch of questions and, once the user hits submit, we want to go to another page that displays all of that information. First, let's make two basic HTML pages- nothing fancy. One of which will have a form, and the other will be waiting to display data inputted by the user."
   ]
  },
  {
   "cell_type": "markdown",
   "metadata": {
    "collapsed": true
   },
   "source": [
    "### Make the basic HTML Pages\n",
    "Navigate to your **templates folder** and make two basic HTML pages, one called \"form.html\" and the other called \"display.html\" (you can call them anything you'd like; those are just the names that I used!) Here's the structure of my pages.\n",
    "\n",
    "Form:\n",
    "\n",
    "```\n",
    "<DOCTYPE! html>\n",
    "    <html>\n",
    "      <head>\n",
    "        <title>What is your favorite color?</title>\n",
    "      </head>\n",
    "      <body>\n",
    "        <form method=\"post\">\n",
    "        <label for=\"color\">What is your favorite color?</label>\n",
    "        <input name=\"color\" id=\"color\">\n",
    "        <button>Submit!</button>\n",
    "        </form>\n",
    "      </body>\n",
    "    </html>\n",
    "```\n",
    "\n",
    "Display:\n",
    "```\n",
    "<DOCTYPE! html>\n",
    "    <html>\n",
    "      <head>\n",
    "        <title>Display your favorite color</title>\n",
    "      </head>\n",
    "      <body>\n",
    "          <p> {{color}} </p>\n",
    "      </body>\n",
    "    </html>\n",
    "```\n",
    "\n",
    "In theory, once you press the button the form will \"POST\" to the next page what your favorite color is! Note the curly brackets- they're just to let flask know that 'color' is a variable and will be filled in with whatever your favorite color is."
   ]
  },
  {
   "cell_type": "markdown",
   "metadata": {},
   "source": [
    "### Writing the code!\n",
    "Now, let's start writing our Flask code! Make a new run.py in the app folder. What we had last time was:\n",
    "\n",
    "```python\n",
    "from flask import *\n",
    "\n",
    "app = Flask(__name__)\n",
    "\n",
    "\n",
    "@app.route('/')\n",
    "def index():\n",
    "    return \"hello\"\n",
    "```\n",
    "\n",
    "Recall that, once the code starts running, we'll run the function under @app.route('/'). However, this time we don't want to return a page that only has \"hello\" on it! We want to return our **form.html** page. We can tell flask to do this by changing the return statement to:\n",
    "\n",
    "```python\n",
    "return render_template('form.html')\n",
    "```\n",
    "\n",
    "Update the file with the new return statement and run ```run.py``` in the terminal. Check out your website at http://localhost:5000."
   ]
  },
  {
   "cell_type": "markdown",
   "metadata": {},
   "source": [
    "### Finishing touches\n",
    "\n",
    "Okay, so that's cool and all but it doesn't do much. We need to add a few more final touches to ```run.py``` and ```form.html```. Let's add another @app.route to tell flask to display ```display.html``` when the form is submitted.\n",
    "\n",
    "```python\n",
    "@app.route('/submit', methods=['GET', 'POST'])\n",
    "def submit():\n",
    "    return render_template('display.html', color=request.form['color'])\n",
    "\n",
    "```\n",
    "\n",
    "See in our ```render_template``` function we've added a new variable. Recall how in our ```display.html``` we had written ```{{color}}```? This is just telling flask WHAT color will be: what we write in the form. Also note the 'GET' and 'POST' additions. That's just enabling flask to retrieve/read this data. So, since we want to GET data from ```form.html``` you'll also want to **add** that part to your @app.route('/') function, turning it to \n",
    "\n",
    "```python\n",
    "@app.route('/', methods=['GET', 'POST'])\n",
    "```\n",
    "\n",
    "Next, we need to tell our form that, when it is submitted, it should run the ```submit()``` function. In our ```form.html``` page, update your ```form``` tag to look like this:\n",
    "\n",
    "```html\n",
    "<form method=\"post\", action=\"{{ url_for('submit') }}\">\n",
    "```\n",
    "\n",
    "All this 'action' does is direct flask to the 'submit' function. Alright! Now that we've done all of that, re-run ```run.py``` and check out your NEW and IMPROVED website at http://localhost:5000.\n",
    "\n",
    "Now that you've got the basics, have some fun! What other cool things can you do with Flask? Once you've had enough, head on over to the Alexa tutorials where we play around with Flask-Ask."
   ]
  },
  {
   "cell_type": "markdown",
   "metadata": {},
   "source": [
    "## Other useful things\n",
    "\n",
    "Check out the flask [documentation](http://flask.pocoo.org/docs/0.12/) for several more examples of templates that you can incorporate into your own app. In fact, after this basic setup the next steps that you would like to take are very dependent on what sort of structure and content you would like your app to possess. For example, if you would like a website that has a login and several tabs in a navbar, you should install Flask's login and user authentication extensions and consider making templates for user login/logout/signup as well as a template for what a general page might look like. In any situation where you might be incorporating a similar structure in multiple elements of your website, make a template! \n",
    "\n",
    "If you're looking to incorporate icons into your website at any point, I'd suggest using [Font Awesome](http://fontawesome.io). Otherwise in terms of other helpful tools for web development if you find that you really enjoy this stuff, feel free to check out some of the stuff in [this article](https://medium.com/web-development-zone/100-awesome-web-development-tools-and-resources-f50e776ea20c). Most of the tools won't be relevant to this specific project but keep them in your pocket so you can build your own websites and do other fun projects in the future! \n"
   ]
  }
 ],
 "metadata": {
  "kernelspec": {
   "display_name": "Python 3",
   "language": "python",
   "name": "python3"
  },
  "language_info": {
   "codemirror_mode": {
    "name": "ipython",
    "version": 3
   },
   "file_extension": ".py",
   "mimetype": "text/x-python",
   "name": "python",
   "nbconvert_exporter": "python",
   "pygments_lexer": "ipython3",
   "version": "3.6.4"
  }
 },
 "nbformat": 4,
 "nbformat_minor": 2
}
